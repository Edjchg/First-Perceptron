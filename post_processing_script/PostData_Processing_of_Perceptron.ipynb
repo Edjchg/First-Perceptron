{
  "nbformat": 4,
  "nbformat_minor": 0,
  "metadata": {
    "colab": {
      "provenance": [],
      "authorship_tag": "ABX9TyMHSvitOod/++ny6sverkFj",
      "include_colab_link": true
    },
    "kernelspec": {
      "name": "python3",
      "display_name": "Python 3"
    },
    "language_info": {
      "name": "python"
    }
  },
  "cells": [
    {
      "cell_type": "markdown",
      "metadata": {
        "id": "view-in-github",
        "colab_type": "text"
      },
      "source": [
        "<a href=\"https://colab.research.google.com/github/Edjchg/First-Perceptron/blob/main/post_processing_script/PostData_Processing_of_Perceptron.ipynb\" target=\"_parent\"><img src=\"https://colab.research.google.com/assets/colab-badge.svg\" alt=\"Open In Colab\"/></a>"
      ]
    },
    {
      "cell_type": "code",
      "execution_count": null,
      "metadata": {
        "id": "U7JwlyFfvBCp"
      },
      "outputs": [],
      "source": [
        "weights = [\n",
        "    [0,0,0,0,0,0],\n",
        "    [-1.8,-1.8,-4476.6,-4477.5,-498.6,-1308.6],\n",
        "    [0,1.8,-800.64,-800.28,14241.6,19666.8],\n",
        "    [-1.8,0,-1354.86,-1380.24,7713,432.002],\n",
        "    [-3.6,-1.8,-3578.76,-3616.02,-756,-18273.6],\n",
        "    [-1.8,1.8,387.54,351.54,13984.2,2701.8],\n",
        "    [-3.6,0,-307.62,-355.86,10384.2,-16497],\n",
        "    [-1.8,3.6,2839.5,2792.52,25124.4,4478.4],\n",
        "    [-3.6,1.8,-1743.3,-1793.88,24688.8,3043.8],\n",
        "    [-5.4,0,-3697.92,-3793.5,16219.8,-15309],\n",
        "    [-3.6,3.6,275.58,181.26,30960,5666.41],\n",
        "    [-5.4,0,-6015.42,-6111,30960,2764.81],\n",
        "    [-7.2,-1.8,-6295.14,-6396.66,24078.6,-15411.6],\n",
        "    [-5.4,1.8,-3297.6,-3397.86,38818.8,5563.81],\n",
        "    [-7.2,0,-3359.88,-3475.62,29583,-15319.8],\n",
        "    [-7.2,1.8,-766.981,-882.18,33283.8,-12823.2],\n",
        "    [-9,0,-920.161,-1047.6,23344.2,-34234.2],\n",
        "    [-7.2,3.6,2741.04,2614.86,38084.4,-13258.8],\n",
        "    [-9,1.8,2719.8,2562.3,29923.2,-35229.6],\n",
        "    [-7.2,5.4,5738.76,5582.52,44663.4,-14254.2],\n",
        "    [-9,3.6,3673.8,3495.24,36194.4,-34018.2],\n",
        "    [-7.2,7.2,7317.18,7139.88,50934.6,-13042.8],\n",
        "    [-9,5.4,7068.96,6886.26,43014.6,-30562.2],\n",
        "    [-10.8,3.6,2404.26,2213.82,42642,-31746.6],\n",
        "    [-9,7.2,6207.3,6018.12,57382.2,-10771.2],\n",
        "    [-10.8,5.4,1730.7,1540.62,56883.6,-12079.8],\n",
        "    [-12.6,3.6,1176.48,960.66,50355,-31314.6]\n",
        "]"
      ]
    },
    {
      "cell_type": "code",
      "source": [
        "MIN_WEIGHT_VAL = min(min(weight) for weight in weights)\n",
        "MAX_WEIGHT_VAL = max(max(weight) for weight in weights)\n",
        "MIN_WEIGHT_CIRCLE_RAD = 20\n",
        "MAX_WEIGHT_CIRCLE_RAD = 50\n",
        "\n",
        "def convert_weight_to_rad(weight):\n",
        "\n",
        "    \"\"\"\n",
        "    2 Pairs:\n",
        "         x1              y1\n",
        "      - (MIN_WEIGHT_VAL, MIN_WEIGHT_CIRCLE_RAD)\n",
        "\n",
        "         x2              y2\n",
        "      - (MAX_WEIGHT_VAL, MAX_WEIGHT_CIRCLE_RAD)\n",
        "\n",
        "    m = (y2 - y1) / (x2 - x1)\n",
        "    m = (MAX_WEIGHT_CIRCLE_RAD - MIN_WEIGHT_CIRCLE_RAD) / (MAX_WEIGHT_VAL - MIN_WEIGHT_VAL)\n",
        "    b = y1 - m * x1\n",
        "    b = MIN_WEIGHT_CIRCLE_RAD - m * MIN_WEIGHT_VAL\n",
        "\n",
        "    y = m * x + b\n",
        "    \"\"\"\n",
        "    return int((weight - MIN_WEIGHT_VAL) / (MAX_WEIGHT_VAL - MIN_WEIGHT_VAL) * (MAX_WEIGHT_CIRCLE_RAD - MIN_WEIGHT_CIRCLE_RAD) + MIN_WEIGHT_CIRCLE_RAD)"
      ],
      "metadata": {
        "colab": {
          "base_uri": "https://localhost:8080/"
        },
        "id": "l3eqGXkubUHr",
        "outputId": "467d6a19-9f49-4bf5-ac21-d20e18d061b2"
      },
      "execution_count": null,
      "outputs": [
        {
          "output_type": "stream",
          "name": "stdout",
          "text": [
            "20\n",
            "50\n"
          ]
        }
      ]
    },
    {
      "cell_type": "code",
      "source": [
        "from re import I\n",
        "from PIL import Image, ImageDraw, ImageFont\n",
        "\n",
        "\n",
        "#draw.rectangle((10, 10, 190, 90), fill='#4BB4CC')\n",
        "\n",
        "feature_lable = [\"Bias\", \"Location\", \"Start Time (s)\", \"End Time (s)\", \"Low Freq (Hz)\", \"High Freq (Hz)\"]\n",
        "\n",
        "list_of_frames = list()\n",
        "\n",
        "bird = Image.open(\"bird.png\")\n",
        "bird_width, bird_height = bird.size\n",
        "bird_width = int(bird_width/1.5)\n",
        "bird_height = int(bird_height/1.5)\n",
        "bird = bird.resize((bird_width, bird_height))\n",
        "\n",
        "for weight in weights:\n",
        "    img = Image.new('RGB', (1000, 900), color='white')\n",
        "    draw = ImageDraw.Draw(img)\n",
        "\n",
        "    # Cleaning the canvas (?)\n",
        "    #draw.rectangle((0, 0, 1000, 1000), fill=\"white\")\n",
        "\n",
        "    font = ImageFont.truetype(\"LiberationMono-Italic.ttf\", size=20)\n",
        "    caption_text = \"Epoch: \" + str(weights.index(weight)) + \" training to identify White-eared Ground-Sparrow (Costa Rica)\"\n",
        "    draw.text((10, 10), caption_text, fill=(0, 0, 0), font=font)\n",
        "\n",
        "    # lines between inputs and weights:\n",
        "    INITIAL_INPUT_LINE_X = 100\n",
        "    INITIAL_INPUT_LINE_Y = 200 - 80\n",
        "    END_INPUT_LINE_X = 350\n",
        "    END_INPUT_LINE_Y = 150 - 80\n",
        "    for line in range(len(weight)):\n",
        "        draw.line([(INITIAL_INPUT_LINE_X, INITIAL_INPUT_LINE_Y), (END_INPUT_LINE_X, END_INPUT_LINE_Y)], fill=\"black\", width=2, joint=\"curve\")\n",
        "        INITIAL_INPUT_LINE_Y += 4*30\n",
        "        END_INPUT_LINE_Y += 5*30\n",
        "\n",
        "    # lines between weights and sum circles:\n",
        "    INITIAL_WEIGHT_LINE_X = 350\n",
        "    INITIAL_WEIGHT_LINE_Y = 150 - 80\n",
        "    END_WEIGHT_LINE_X = 600\n",
        "    END_WEIGHT_LINE_Y = 530 - 80\n",
        "    for line in range(len(weight)):\n",
        "        draw.line([(INITIAL_WEIGHT_LINE_X, INITIAL_WEIGHT_LINE_Y), (END_WEIGHT_LINE_X, END_WEIGHT_LINE_Y)], fill=\"black\", width=2, joint=\"curve\")\n",
        "        INITIAL_WEIGHT_LINE_Y += 5*30\n",
        "\n",
        "    # Output line:\n",
        "    INITAL_STEP_FUNCTION_LINE_X = 800\n",
        "    INITAL_STEP_FUNCTION_LINE_Y = 530 - 80\n",
        "    END_STEP_FUNCTION_LINE_X = 950\n",
        "    END_STEP_FUNCTION_LINE_Y = 530 - 80\n",
        "    draw.line([(INITAL_STEP_FUNCTION_LINE_X, INITAL_STEP_FUNCTION_LINE_Y), (END_STEP_FUNCTION_LINE_X, END_STEP_FUNCTION_LINE_Y)], fill=\"black\", width=2, joint=\"curve\")\n",
        "\n",
        "    INITIAL_SUM_ACT_LINE_X = 600\n",
        "    INITIAL_SUM_ACT_LINE_Y = 530 - 80\n",
        "    END_SUM_ACT_LINE_X = 800\n",
        "    END_SUM_ACT_LINE_Y = 530 - 80\n",
        "    draw.line([(INITIAL_SUM_ACT_LINE_X, INITIAL_SUM_ACT_LINE_Y), (END_SUM_ACT_LINE_X, END_SUM_ACT_LINE_Y)], fill=\"black\", width=2, joint=\"curve\")\n",
        "\n",
        "    # Inputs\n",
        "    INITIAL_INPUT_CIRCLE_X = 100\n",
        "    INITIAL_INPUT_CIRCLE_Y = 200 - 80\n",
        "    INITIAL_INPUT_CIRCLE_RADIUS = 30\n",
        "    for input_circle in range(len(weight)):\n",
        "        draw.circle((INITIAL_INPUT_CIRCLE_X, INITIAL_INPUT_CIRCLE_Y), radius=INITIAL_INPUT_CIRCLE_RADIUS, fill=\"#37AAC4\", outline=\"#090979\", width=2)\n",
        "        INITIAL_INPUT_CIRCLE_Y += 4*INITIAL_INPUT_CIRCLE_RADIUS\n",
        "\n",
        "    # Input lables:\n",
        "    INITIAL_FEATURE_LABLE_X = 70\n",
        "    INITIAL_FEATURE_LABLE_Y = 235 -80\n",
        "    font = ImageFont.truetype(\"LiberationMono-Italic.ttf\", size=15)\n",
        "    for lable in feature_lable:\n",
        "        draw.text((INITIAL_FEATURE_LABLE_X, INITIAL_FEATURE_LABLE_Y), lable, fill=(0, 0, 0), font=font, align='left')\n",
        "        INITIAL_FEATURE_LABLE_Y += 4*30\n",
        "\n",
        "    # Weights:\n",
        "    INITIAL_WEIGHT_CIRCLE_X = 350\n",
        "    INITIAL_WEIGHT_CIRCLE_Y = 150 - 80\n",
        "    for weight_circle in weight:\n",
        "        draw.circle((INITIAL_WEIGHT_CIRCLE_X, INITIAL_WEIGHT_CIRCLE_Y), radius=convert_weight_to_rad(weight_circle), fill=\"#FCB045\", outline=\"#A15E00\", width=2)\n",
        "\n",
        "        font = ImageFont.truetype(\"LiberationMono-Italic.ttf\", size=15)\n",
        "        lable = \"W\"+str(weight.index(weight_circle))\n",
        "        draw.text((INITIAL_WEIGHT_CIRCLE_X-10, INITIAL_WEIGHT_CIRCLE_Y-10), lable, fill=(0, 0, 0), font=font, align='left')\n",
        "\n",
        "        INITIAL_WEIGHT_CIRCLE_Y += 5*30\n",
        "\n",
        "    # Sumatory circle\n",
        "    INITIAL_SUM_CIRCLE_X = 600\n",
        "    INITIAL_SUM_CIRCLE_Y = 530 - 80\n",
        "    INITIAL_SUM_CIRCLE_RADIUS = 60\n",
        "    draw.circle((INITIAL_SUM_CIRCLE_X, INITIAL_SUM_CIRCLE_Y), radius=INITIAL_SUM_CIRCLE_RADIUS, fill=\"#C0E660\", outline=None, width=2)\n",
        "\n",
        "    font = ImageFont.truetype(\"LiberationMono-Italic.ttf\", size=15)\n",
        "    lable = \"Σ W_i*I_i\"\n",
        "    draw.text((INITIAL_SUM_CIRCLE_X-40, INITIAL_SUM_CIRCLE_Y-10), lable, fill=(0, 0, 0), font=font, align='left')\n",
        "\n",
        "    # Activation function:\n",
        "    INITAL_STEP_FUNCTION_CIRCLE_X = 800\n",
        "    INITAL_STEP_FUNCTION_CIRCLE_Y = 530 - 80\n",
        "    INITAL_STEP_FUNCTION_CIRCLE_RADIUS = 50\n",
        "    draw.circle((INITAL_STEP_FUNCTION_CIRCLE_X, INITAL_STEP_FUNCTION_CIRCLE_Y), radius=INITAL_STEP_FUNCTION_CIRCLE_RADIUS, fill=\"#8A8AE6\", outline=\"#090979\", width=2)\n",
        "\n",
        "    font = ImageFont.truetype(\"LiberationMono-Italic.ttf\", size=15)\n",
        "    lable = \"(Σ>0)?1:-1\"\n",
        "    draw.text((INITAL_STEP_FUNCTION_CIRCLE_X-45, INITAL_STEP_FUNCTION_CIRCLE_Y-10), lable, fill=(0, 0, 0), font=font, align='left')\n",
        "\n",
        "    INITIAL_ARC_X = 400\n",
        "    INITIAL_ARC_Y = 130 - 80\n",
        "    draw.arc([(INITIAL_ARC_X, INITIAL_ARC_Y), (INITIAL_ARC_X + 500, INITIAL_ARC_Y + 800)], 240, 360, fill=\"black\", width=2)\n",
        "\n",
        "\n",
        "    draw.line([(INITIAL_ARC_X+125, INITIAL_ARC_Y+55), (INITIAL_ARC_X+145, INITIAL_ARC_Y+55)], fill=\"black\", width=2, joint=\"curve\")\n",
        "    draw.line([(INITIAL_ARC_X+125, INITIAL_ARC_Y+55), (INITIAL_ARC_X+125, INITIAL_ARC_Y+35)], fill=\"black\", width=2, joint=\"curve\")\n",
        "\n",
        "\n",
        "    img_complete = Image.new('RGB', (1000, bird_height + 900), color='white')\n",
        "    img_complete.paste(bird, (0,0))\n",
        "    img_complete.paste(img, (0,bird_height))\n",
        "\n",
        "    if (weights.index(weight) == len(weights)-1):\n",
        "        for i in range(20):\n",
        "          list_of_frames.append(img_complete)\n",
        "    else:\n",
        "      list_of_frames.append(img_complete)\n",
        "\n",
        "#img.save('test.png')\n",
        "list_of_frames[0].save('test.gif',\n",
        "               save_all=True, append_images=list_of_frames[1:],\n",
        "               optimize=False, duration=1000, loop=0)"
      ],
      "metadata": {
        "id": "E9DS9w5vJkmq"
      },
      "execution_count": null,
      "outputs": []
    },
    {
      "cell_type": "code",
      "source": [
        "# Adding audio to .gif\n",
        "\n",
        "# Bird's name: wegspa1/White-eared Ground-Sparrow\n",
        "# Audio's name: NES_017_S02_20190901_160000.flac\n",
        "# Start-end s: 508.2:514.9\n",
        "\n",
        "!pip install moviepy"
      ],
      "metadata": {
        "colab": {
          "base_uri": "https://localhost:8080/"
        },
        "id": "SBz0BupBoHVK",
        "outputId": "af158647-ec5f-4da2-e8ef-208a049522e8"
      },
      "execution_count": null,
      "outputs": [
        {
          "output_type": "stream",
          "name": "stdout",
          "text": [
            "Requirement already satisfied: moviepy in /usr/local/lib/python3.11/dist-packages (1.0.3)\n",
            "Requirement already satisfied: decorator<5.0,>=4.0.2 in /usr/local/lib/python3.11/dist-packages (from moviepy) (4.4.2)\n",
            "Requirement already satisfied: tqdm<5.0,>=4.11.2 in /usr/local/lib/python3.11/dist-packages (from moviepy) (4.67.1)\n",
            "Requirement already satisfied: requests<3.0,>=2.8.1 in /usr/local/lib/python3.11/dist-packages (from moviepy) (2.32.3)\n",
            "Requirement already satisfied: proglog<=1.0.0 in /usr/local/lib/python3.11/dist-packages (from moviepy) (0.1.12)\n",
            "Requirement already satisfied: numpy>=1.17.3 in /usr/local/lib/python3.11/dist-packages (from moviepy) (2.0.2)\n",
            "Requirement already satisfied: imageio<3.0,>=2.5 in /usr/local/lib/python3.11/dist-packages (from moviepy) (2.37.0)\n",
            "Requirement already satisfied: imageio-ffmpeg>=0.2.0 in /usr/local/lib/python3.11/dist-packages (from moviepy) (0.6.0)\n",
            "Requirement already satisfied: pillow>=8.3.2 in /usr/local/lib/python3.11/dist-packages (from imageio<3.0,>=2.5->moviepy) (11.2.1)\n",
            "Requirement already satisfied: charset-normalizer<4,>=2 in /usr/local/lib/python3.11/dist-packages (from requests<3.0,>=2.8.1->moviepy) (3.4.2)\n",
            "Requirement already satisfied: idna<4,>=2.5 in /usr/local/lib/python3.11/dist-packages (from requests<3.0,>=2.8.1->moviepy) (3.10)\n",
            "Requirement already satisfied: urllib3<3,>=1.21.1 in /usr/local/lib/python3.11/dist-packages (from requests<3.0,>=2.8.1->moviepy) (2.4.0)\n",
            "Requirement already satisfied: certifi>=2017.4.17 in /usr/local/lib/python3.11/dist-packages (from requests<3.0,>=2.8.1->moviepy) (2025.6.15)\n"
          ]
        }
      ]
    },
    {
      "cell_type": "code",
      "source": [
        "from moviepy.editor import VideoFileClip, AudioFileClip, CompositeVideoClip\n",
        "\n",
        "def add_audio_to_gif(gif_path, audio_path, output_video_path):\n",
        "    \"\"\"\n",
        "    Converts a GIF to a video and adds an audio track.\n",
        "\n",
        "    Args:\n",
        "        gif_path (str): Path to the input GIF file.\n",
        "        audio_path (str): Path to the input audio file (e.g., .mp3, .wav).\n",
        "        output_video_path (str): Path for the output video file (e.g., .mp4).\n",
        "    \"\"\"\n",
        "    try:\n",
        "        # Load the GIF as a VideoFileClip\n",
        "        video_clip = VideoFileClip(gif_path)\n",
        "\n",
        "        # Load the audio file\n",
        "        audio_clip = AudioFileClip(audio_path)\n",
        "        # Increase the volume:\n",
        "        #effect = afx.MultiplyVolume(2)\n",
        "        audio_clip = audio_clip.volumex(4)\n",
        "        start_bird_sings = 508.2\n",
        "        end_bird_sing = 554\n",
        "        # Extract the interval where the bird is singing:\n",
        "        audio_clip = audio_clip.subclip(start_bird_sings, end_bird_sing)\n",
        "\n",
        "\n",
        "        # Set the audio of the video clip\n",
        "        final_clip = video_clip.set_audio(audio_clip)\n",
        "\n",
        "        # Write the final video file\n",
        "        final_clip.write_videofile(output_video_path, codec=\"libx264\", audio_codec=\"aac\")\n",
        "\n",
        "        print(f\"Successfully created video with audio: {output_video_path}\")\n",
        "\n",
        "    except Exception as e:\n",
        "        print(f\"An error occurred: {e}\")\n",
        "\n",
        "\n",
        "# Example usage:\n",
        "input_gif = \"test.gif\"  # Replace with your GIF file\n",
        "input_audio = \"NES_017_S02_20190901_160000.flac\"    # Replace with your audio file\n",
        "output_video = \"output_with_sound.mp4\" # Desired output video file\n",
        "\n",
        "add_audio_to_gif(input_gif, input_audio, output_video)"
      ],
      "metadata": {
        "colab": {
          "base_uri": "https://localhost:8080/"
        },
        "id": "_VPzunoWp1BE",
        "outputId": "1b6a03d0-d0c4-4e28-9341-5bbf1d40b316"
      },
      "execution_count": null,
      "outputs": [
        {
          "output_type": "stream",
          "name": "stdout",
          "text": [
            "Moviepy - Building video output_with_sound.mp4.\n",
            "MoviePy - Writing audio in output_with_soundTEMP_MPY_wvf_snd.mp4\n"
          ]
        },
        {
          "output_type": "stream",
          "name": "stderr",
          "text": []
        },
        {
          "output_type": "stream",
          "name": "stdout",
          "text": [
            "MoviePy - Done.\n",
            "Moviepy - Writing video output_with_sound.mp4\n",
            "\n"
          ]
        },
        {
          "output_type": "stream",
          "name": "stderr",
          "text": []
        },
        {
          "output_type": "stream",
          "name": "stdout",
          "text": [
            "Moviepy - Done !\n",
            "Moviepy - video ready output_with_sound.mp4\n",
            "Successfully created video with audio: output_with_sound.mp4\n"
          ]
        }
      ]
    }
  ]
}